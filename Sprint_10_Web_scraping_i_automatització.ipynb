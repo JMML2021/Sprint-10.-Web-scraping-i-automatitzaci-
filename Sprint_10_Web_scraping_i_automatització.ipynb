{
  "nbformat": 4,
  "nbformat_minor": 0,
  "metadata": {
    "colab": {
      "name": "Sprint 10. Web scraping i automatització.ipynb",
      "provenance": [],
      "authorship_tag": "ABX9TyMrk16/6l/wpiRh3JBJXtDB",
      "include_colab_link": true
    },
    "kernelspec": {
      "name": "python3",
      "display_name": "Python 3"
    },
    "language_info": {
      "name": "python"
    }
  },
  "cells": [
    {
      "cell_type": "markdown",
      "metadata": {
        "id": "view-in-github",
        "colab_type": "text"
      },
      "source": [
        "<a href=\"https://colab.research.google.com/github/JMML2021/Sprint-10.-Web-scraping-i-automatitzaci-/blob/main/Sprint_10_Web_scraping_i_automatitzaci%C3%B3.ipynb\" target=\"_parent\"><img src=\"https://colab.research.google.com/assets/colab-badge.svg\" alt=\"Open In Colab\"/></a>"
      ]
    },
    {
      "cell_type": "code",
      "execution_count": null,
      "metadata": {
        "id": "9-fqXCslWBEJ"
      },
      "outputs": [],
      "source": [
        "# Activo Google Drive\n",
        "\n",
        "from google.colab import drive\n",
        "drive.mount('/content/drive')"
      ]
    }
  ]
}