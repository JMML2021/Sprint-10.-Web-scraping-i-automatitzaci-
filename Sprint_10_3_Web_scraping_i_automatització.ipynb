{
  "nbformat": 4,
  "nbformat_minor": 0,
  "metadata": {
    "colab": {
      "name": "Sprint 10.3 Web scraping i automatització.ipynb",
      "provenance": [],
      "authorship_tag": "ABX9TyOjrZ+/bIjPUYHS2G+HPMzT",
      "include_colab_link": true
    },
    "kernelspec": {
      "name": "python3",
      "display_name": "Python 3"
    },
    "language_info": {
      "name": "python"
    }
  },
  "cells": [
    {
      "cell_type": "markdown",
      "metadata": {
        "id": "view-in-github",
        "colab_type": "text"
      },
      "source": [
        "<a href=\"https://colab.research.google.com/github/JMML2021/Sprint-10.-Web-scraping-i-automatitzaci-/blob/main/Sprint_10_3_Web_scraping_i_automatitzaci%C3%B3.ipynb\" target=\"_parent\"><img src=\"https://colab.research.google.com/assets/colab-badge.svg\" alt=\"Open In Colab\"/></a>"
      ]
    },
    {
      "cell_type": "code",
      "source": [
        "#!pip install Scrapy"
      ],
      "metadata": {
        "id": "0UEPid-hmcsT"
      },
      "execution_count": 7,
      "outputs": []
    },
    {
      "cell_type": "code",
      "source": [
        ""
      ],
      "metadata": {
        "id": "6BFzs-A_m6Z6"
      },
      "execution_count": null,
      "outputs": []
    },
    {
      "cell_type": "code",
      "execution_count": 10,
      "metadata": {
        "id": "R5Ca1Fe9mOD9"
      },
      "outputs": [],
      "source": [
        "from scrapy.item import Field\n",
        "from scrapy.item import Item\n",
        "from scrapy.spiders import CrawlSpider, Rule, Spider\n",
        "from scrapy.selector import Selector\n",
        "from scrapy.loader.processors import MapCompose\n",
        "from scrapy.linkextractors import LinkExtractor\n",
        "from scrapy.loader import ItemLoader\n",
        "from bs4 import BeautifulSoup"
      ]
    },
    {
      "cell_type": "code",
      "source": [
        "class Articulo(Item):\n",
        "    titulo = Field()\n",
        "    precio = Field()\n",
        "    descripcion = Field()"
      ],
      "metadata": {
        "id": "uxK0VIKFm-cV"
      },
      "execution_count": 8,
      "outputs": []
    },
    {
      "cell_type": "code",
      "source": [
        "class MercadoLibreCrawler(CrawlSpider):\n",
        "    name = 'mercadoLibre'\n",
        "\n",
        "    custom_settings = {\n",
        "      'USER_AGENT': 'Mozilla/5.0 (X11; Linux x86_64) AppleWebKit/537.36 (KHTML, like Gecko) Ubuntu Chromium/71.0.3578.80 Chrome/71.0.3578.80 Safari/537.36',\n",
        "      'CLOSESPIDER_PAGECOUNT': 20 # Numero maximo de paginas en las cuales voy a descargar items. Scrapy se cierra cuando alcanza este numero\n",
        "    }\n",
        "\n",
        "    # Utilizamos 2 dominios permitidos, ya que los articulos utilizan un dominio diferente\n",
        "    allowed_domains = ['articulo.mercadolibre.com.ec', 'listado.mercadolibre.com.ec']\n",
        "\n",
        "    start_urls = ['https://listado.mercadolibre.com.ec/animales-mascotas/perros/']\n",
        "\n",
        "    download_delay = 1\n",
        "\n",
        "    # Tupla de reglas\n",
        "    rules = (\n",
        "        Rule( # REGLA #1 => HORIZONTALIDAD POR PAGINACION\n",
        "            LinkExtractor(\n",
        "                allow=r'/_Desde_\\d+' # Patron en donde se utiliza \"\\d+\", expresion que puede tomar el valor de cualquier combinacion de numeros\n",
        "            ), follow=True),\n",
        "        Rule( # REGLA #2 => VERTICALIDAD AL DETALLE DE LOS PRODUCTOS\n",
        "            LinkExtractor(\n",
        "                allow=r'/MEC-' \n",
        "            ), follow=True, callback='parse_items'), # Al entrar al detalle de los productos, se llama al callback con la respuesta al requerimiento\n",
        "    )\n",
        "\n",
        "    def parse_items(self, response):\n",
        "\n",
        "        item = ItemLoader(Articulo(), response)\n",
        "        \n",
        "        # Utilizo Map Compose con funciones anonimas\n",
        "        # PARA INVESTIGAR: Que son las funciones anonimas en Python?\n",
        "        item.add_xpath('titulo', '//h1/text()', MapCompose(lambda i: i.replace('\\n', ' ').replace('\\r', ' ').strip()))\n",
        "        item.add_xpath('descripcion', '//div[@class=\"item-description__text\"]/p/text()', MapCompose(lambda i: i.replace('\\n', ' ').replace('\\r', ' ').strip()))\n",
        "\n",
        "        soup = BeautifulSoup(response.body)\n",
        "        precio = soup.find(class_=\"price-tag ui-pdp-price__part\")\n",
        "        precio_completo = precio.text.replace('\\n', ' ').replace('\\r', ' ').replace(' ', '') # texto de todos los hijos\n",
        "        item.add_value('precio', precio_completo)\n",
        "\n",
        "        yield item.load_item()\n",
        "\n",
        "# EJECUCION\n",
        "# scrapy runspider 2_mercadolibre.py -o mercado_libre.json -t json"
      ],
      "metadata": {
        "id": "nSYi-dqym7Nx"
      },
      "execution_count": 9,
      "outputs": []
    },
    {
      "cell_type": "code",
      "source": [
        "class Pregunta(Item):\n",
        "  pregunta = Field()\n",
        "  id = Field()\n",
        "\n",
        "  "
      ],
      "metadata": {
        "id": "rbnb90B_nSTD"
      },
      "execution_count": null,
      "outputs": []
    },
    {
      "cell_type": "code",
      "source": [
        "class StackOverflowSpider(Spider)"
      ],
      "metadata": {
        "id": "W07C-9oPnd9v"
      },
      "execution_count": null,
      "outputs": []
    },
    {
      "cell_type": "markdown",
      "source": [
        "https://www.youtube.com/watch?v=ViOFqeRgu5s"
      ],
      "metadata": {
        "id": "Xe1_EC-kny2R"
      }
    }
  ]
}